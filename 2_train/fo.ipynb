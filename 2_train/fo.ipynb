{
 "cells": [
  {
   "cell_type": "markdown",
   "metadata": {
    "id": "pv4FWOzMbmaP"
   },
   "source": [
    "# > **ODE:**\n",
    "$$\\frac{d^2 x}{d t^2}+\\mu\\frac{d x}{d t}+kx=0 $$\n",
    "\n",
    ",where $ \\mu=2m\\delta, k = m\\omega^2$\n",
    "\n",
    "Condition: $x(0)=1, \\frac{d x}{d t}(0)=0, m=1$\n",
    "\n",
    "\n",
    "# > **Solution**\n",
    "$$x(t)=2A e^{-\\delta t} cos(\\phi + \\omega t)$$"
   ]
  },
  {
   "cell_type": "code",
   "execution_count": 1,
   "metadata": {
    "colab": {
     "base_uri": "https://localhost:8080/"
    },
    "id": "aBwmE0PAbiB1",
    "outputId": "3dc4a524-42b6-46ed-caf1-06811fe45acb"
   },
   "outputs": [
    {
     "name": "stdout",
     "output_type": "stream",
     "text": [
      "using device: cuda\n"
     ]
    }
   ],
   "source": [
    "import numpy as np\n",
    "import matplotlib.pyplot as plt\n",
    "import torch\n",
    "import torch.nn as nn\n",
    "import torch.optim as optim\n",
    "from PIL import Image\n",
    "\n",
    "USE_GPU = True\n",
    "dtype = torch.float64\n",
    "\n",
    "if USE_GPU and torch.cuda.is_available():\n",
    "    device = torch.device('cuda')\n",
    "else:\n",
    "    device = torch.device('cpu')\n",
    "\n",
    "print('using device:', device)"
   ]
  },
  {
   "cell_type": "code",
   "execution_count": 2,
   "metadata": {
    "colab": {
     "base_uri": "https://localhost:8080/",
     "height": 291
    },
    "id": "E6WHSUjfc1DH",
    "outputId": "1674e648-2332-43de-dee9-558e6e37e9dc"
   },
   "outputs": [
    {
     "data": {
      "image/png": "[encoded data removed]",
      "text/plain": [
       "<Figure size 500x300 with 1 Axes>"
      ]
     },
     "metadata": {},
     "output_type": "display_data"
    }
   ],
   "source": [
    "# https://beltoforion.de/en/harmonic_oscillator/\n",
    "def oscillator(delta, omega0, t):\n",
    "    assert delta < omega0\n",
    "    omega   = np.sqrt(omega0**2 - delta**2)\n",
    "    phi     = np.arctan(-delta/omega)\n",
    "    A       = 1/(2*np.cos(phi))\n",
    "    return torch.exp(-delta * t)*2*A*torch.cos(phi+omega*t)\n",
    "\n",
    "N_grid, delta, omega0 =20, 1.5, 15\n",
    "mu_real, k_real = 2*delta, omega0**2        ## mass = 1\n",
    "\n",
    "t_grid  = torch.linspace(0, 1, N_grid).view(-1,1)\n",
    "x_grid  = oscillator(delta, omega0, t_grid).view(-1,1)\n",
    "\n",
    "N_obs = 15\n",
    "# idx     = np.random.choice(np.arange(len(t_grid)), replace=0, size=N_obs)\n",
    "# t_obs   = t_grid[idx]\n",
    "# x_obs   = x_grid[idx]\n",
    "\n",
    "NOISE = True\n",
    "# if NOISE:\n",
    "    # x_obs += torch.rand(x_obs.size())*0.1\n",
    "\n",
    "figure = plt.figure(figsize=(5,3))\n",
    "plt.plot(t_grid, x_grid, color='r', label='True $x(t)$')\n",
    "# plt.scatter(t_obs, x_obs, marker='o',label='Observed $x(t)$')\n",
    "plt.legend(fontsize=8)\n",
    "\n",
    "# t_obs, x_obs             = t_obs.to(device).requires_grad_(True), x_obs.to(device)\n",
    "t_grid, x_grid           = t_grid.to(device).requires_grad_(True), x_grid.to(device)\n",
    "t_init, x_init, dx_init  = torch.zeros([1,1]).to(device).requires_grad_(True), torch.ones([1,1]).to(device), torch.zeros([1,1]).to(device)\n",
    "\n",
    "# k   = torch.ones(1).to(device).requires_grad_(True)\n",
    "# mu  = torch.ones(1).to(device).requires_grad_(True)"
   ]
  },
  {
   "cell_type": "code",
   "execution_count": 3,
   "metadata": {
    "id": "5rRwPpskbe5W"
   },
   "outputs": [],
   "source": [
    "model = nn.Sequential(nn.Linear(1,64),\n",
    "                      nn.Tanh(),\n",
    "                      nn.Linear(64, 64),\n",
    "                      nn.Tanh(),\n",
    "                      nn.Linear(64, 64),\n",
    "                      nn.Tanh(),\n",
    "                      nn.Linear(64, 64),\n",
    "                      nn.Tanh(),\n",
    "                      nn.Linear(64, 1))\n",
    "model = model.to(device)\n",
    "\n",
    "loss_f = nn.MSELoss()\n",
    "optimizer = torch.optim.Adam([{'params': model.parameters()}], lr=0.001)\n",
    "\n",
    "scheduler = None\n",
    "# scheduler = optim.lr_scheduler.MultiStepLR(optimizer, milestones=[20000], gamma=2)"
   ]
  },
  {
   "cell_type": "code",
   "execution_count": 4,
   "metadata": {
    "id": "7yTJ3SZ-mQe9"
   },
   "outputs": [],
   "source": [
    "def derivative(y, t) :\n",
    "    return torch.autograd.grad(y, t, create_graph=True, grad_outputs=torch.ones(y.size()).to(device))[0]"
   ]
  },
  {
   "cell_type": "code",
   "execution_count": 5,
   "metadata": {
    "id": "fyjIEEEr4gH2"
   },
   "outputs": [],
   "source": [
    "def save_gif_PIL(outfile, files, fps=5, loop=0):\n",
    "    \"Helper function for saving GIFs\"\n",
    "    imgs = [Image.open(file) for file in files]\n",
    "    imgs[0].save(fp=outfile, format='GIF', append_images=imgs[1:], save_all=True, duration=int(1000/fps), loop=loop)\n",
    "def plot_result(x,y,yh):\n",
    "    \"Pretty plot training results\"\n",
    "    plt.figure(figsize=(8,5))\n",
    "    plt.plot(x,y, color=\"gray\", linewidth=2, alpha=0.8, label=\"Exact solution\")\n",
    "    plt.plot(x,yh, color=\"tab:blue\", linewidth=4, alpha=0.8, label=\"Neural network prediction\")\n",
    "    plt.scatter(x, y, marker=\"s\", color=\"r\", alpha=0.4, label='Gradient point')\n",
    "    plt.legend(loc='lower right')\n",
    "    plt.xlabel(\"Time\", size=20)\n",
    "    plt.ylabel(\"Displacement\", size=20)\n",
    "    plt.xlim(-0.05, 1.05)\n",
    "    plt.xlim(-0., 1.)\n",
    "    plt.ylim(-1.1, 1.1)\n",
    "    plt.text(.6,0.8,\"Training step: %i\"%(i+1),fontsize=\"xx-large\",color=\"k\")\n",
    "    # plt.axis(\"off\")"
   ]
  },
  {
   "cell_type": "code",
   "execution_count": null,
   "metadata": {
    "colab": {
     "base_uri": "https://localhost:8080/",
     "height": 837
    },
    "id": "_WZnwwTBnC7a",
    "outputId": "63aede4a-a1ab-4481-a36a-45d928068fc1"
   },
   "outputs": [
    {
     "name": "stdout",
     "output_type": "stream",
     "text": [
      "EPOCH :   1000/ 60000 | Loss_ge : 0.0163098 | Loss_init : 0.9964541 \n",
      "EPOCH :   2000/ 60000 | Loss_ge : 0.0182336 | Loss_init : 0.9961882 \n",
      "EPOCH :   3000/ 60000 | Loss_ge : 0.0183996 | Loss_init : 0.9961532 \n",
      "EPOCH :   4000/ 60000 | Loss_ge : 0.0186649 | Loss_init : 0.9961022 \n",
      "EPOCH :   5000/ 60000 | Loss_ge : 0.0187010 | Loss_init : 0.9960828 \n",
      "EPOCH :   6000/ 60000 | Loss_ge : 0.0187809 | Loss_init : 0.9960617 \n",
      "EPOCH :   7000/ 60000 | Loss_ge : 0.0189493 | Loss_init : 0.9960195 \n",
      "EPOCH :   8000/ 60000 | Loss_ge : 0.0176069 | Loss_init : 0.9961473 \n",
      "EPOCH :   9000/ 60000 | Loss_ge : 0.0197819 | Loss_init : 0.9958127 \n",
      "EPOCH :  10000/ 60000 | Loss_ge : 0.0183727 | Loss_init : 0.9962666 \n",
      "EPOCH :  11000/ 60000 | Loss_ge : 0.0190519 | Loss_init : 0.9960473 \n",
      "EPOCH :  12000/ 60000 | Loss_ge : 0.0197336 | Loss_init : 0.9957627 \n",
      "EPOCH :  13000/ 60000 | Loss_ge : 0.0216128 | Loss_init : 0.9951971 \n",
      "EPOCH :  14000/ 60000 | Loss_ge : 0.0264568 | Loss_init : 0.9938987 \n",
      "EPOCH :  15000/ 60000 | Loss_ge : 0.0297949 | Loss_init : 0.9926383 \n"
     ]
    }
   ],
   "source": [
    "history_loss = []\n",
    "\n",
    "best_model=None\n",
    "best_k, best_mu, best_loss = 0, 0, 100\n",
    "\n",
    "# Train\n",
    "model.train()\n",
    "\n",
    "EPOCHS = 60000\n",
    "files = []\n",
    "for i in range(1, EPOCHS+1) :\n",
    "    optimizer.zero_grad()\n",
    "\n",
    "    output      = model(t_grid)                         # x(t)\n",
    "    output_init = model(t_init)                         # x(t_init)\n",
    "    # output_obs  = model(t_obs)                          # x(t_obs)\n",
    "\n",
    "    doutput     = derivative(output, t_grid)            # dx/dt(t)\n",
    "    d2output    = derivative(doutput, t_grid)           # dx/dt(t)\n",
    "    doutput_init= derivative(output_init, t_init)       # dx/dt(t_init)\n",
    "\n",
    "    # # For general case, use below.\n",
    "    # loss_init   = loss_f(output_init, x_init) + loss_f(doutput_init, dx_init) / 2                       # Loss for initial conditions\n",
    "    # loss_obs    = loss_f(output_obs, x_obs) / N_obs                                                     # Loss for observed data\n",
    "    # loss_ge     = loss_f(d2output + mu*doutput + k*output, torch.zeros_like(doutput)) / N_grid          # Loss for ODE\n",
    "\n",
    "    ## Original version. Not good for noisy case\n",
    "    # loss_init   = loss_f(output_init, x_init) + loss_f(doutput_init, dx_init)                         # Loss for initial conditions\n",
    "    # loss_obs    = loss_f(output_obs, x_obs)                                                           # Loss for observed data\n",
    "    # loss_ge     = loss_f(d2output + mu*doutput + k*output, torch.zeros_like(doutput))*(1.0e-4)        # Loss for ODE\n",
    "\n",
    "    # Importance of ODS loss will be increase as epochs proceeds (For noisy case)\n",
    "    loss_init   = loss_f(output_init, x_init) + loss_f(doutput_init, dx_init)                        # Loss for initial conditions\n",
    "    # loss_obs    = loss_f(output_obs, x_obs)                                                           # Loss for observed data\n",
    "    loss_ge     = loss_f(d2output + mu_real*doutput + k_real*output, torch.zeros_like(doutput))              # Loss for ODE\n",
    "\n",
    "    loss        = loss_init + loss_ge*0.1\n",
    "    loss.backward()\n",
    "\n",
    "    optimizer.step()\n",
    "    if scheduler != None:\n",
    "        scheduler.step()\n",
    "\n",
    "    history_loss.append(loss.item())\n",
    "    # history_mu.append(mu.item())\n",
    "    # history_k.append(k.item())\n",
    "\n",
    "    if loss.item() < best_loss:\n",
    "        best_model = model\n",
    "        best_loss = loss.item()\n",
    "\n",
    "    if not i % 1000 :\n",
    "        print('EPOCH : %6d/%6d | Loss_ge : %8.7f | Loss_init : %8.7f '\\\n",
    "              %(i, EPOCHS, loss_ge.item(), loss_init.item()))\n",
    "\n",
    "    if (i+1) %1000== 0:\n",
    "        file = \"plots/pinn_%.8i.png\"%(i+1)\n",
    "        files.append(file)\n",
    "        plot_result(t_grid.cpu().detach(),x_grid.cpu().detach(), output.cpu().detach())\n",
    "        plt.savefig(file, bbox_inches='tight', pad_inches=0.1, dpi=100, facecolor=\"white\")\n",
    "save_gif_PIL(\"result/pinn.gif\", files, fps=20, loop=0)\n",
    "\n",
    "print('Training Finished.')"
   ]
  },
  {
   "cell_type": "code",
   "execution_count": null,
   "metadata": {
    "colab": {
     "base_uri": "https://localhost:8080/",
     "height": 309
    },
    "id": "hFMXH3ASnCuz",
    "outputId": "2db872cb-d1f0-41b0-a835-65815a541a4c"
   },
   "outputs": [],
   "source": [
    "# View data\n",
    "figure = plt.figure(figsize=(5,3))\n",
    "plt.plot(t_grid.cpu().detach(), x_grid.cpu().detach(), color='k', linestyle='--', label='True $x(t)$')\n",
    "# plt.plot(t_grid.cpu().detach(), best_model(t_grid).cpu().detach(), color='r', label='PINN $x(t)$') # For best model\n",
    "plt.plot(t_grid.cpu().detach(), model(t_grid).cpu().detach(), color='r', label='PINN $x(t)$')        # For final model\n",
    "#plt.scatter(t_obs.cpu().detach(), x_obs.cpu().detach(), marker='o',label='Observed $x(t)$')\n",
    "plt.legend(fontsize=8)"
   ]
  },
  {
   "cell_type": "code",
   "execution_count": null,
   "metadata": {
    "id": "d33tKQ45bb1J"
   },
   "outputs": [],
   "source": [
    "figure = plt.figure(figsize=(15,5))\n",
    "ax1 = figure.add_subplot(1,3,1)\n",
    "ax1.plot(history_mu)\n",
    "ax1.set_title('$\\mu$')\n",
    "ax1.set_xlabel('epoch')\n",
    "ax1.hlines(mu_real, 0, EPOCHS, color='k',linestyle='--', label='True $\\mu$')\n",
    "# ax1.hlines(best_mu, 0, EPOCHS, color='r', label='Best $\\mu$') # For best model\n",
    "ax1.legend()\n",
    "\n",
    "ax2 = figure.add_subplot(1,3,2)\n",
    "ax2.plot(history_k)\n",
    "ax2.set_title('k')\n",
    "ax2.set_xlabel('epoch')\n",
    "ax2.hlines(k_real, 0, EPOCHS, color='k', linestyle='--', label='True k')\n",
    "# ax2.hlines(best_k, 0, EPOCHS, color='r', label='Best k') # For best model\n",
    "ax2.legend()\n",
    "\n",
    "ax3 = figure.add_subplot(1,3,3)\n",
    "ax3.plot(history_loss, label='Training Loss')\n",
    "ax3.set_yscale('log')\n",
    "ax3.legend()\n",
    "ax3.set_title('Training Loss in log scale', fontsize=13)\n",
    "ax3.set_xlabel('epoch', fontsize=13)"
   ]
  },
  {
   "cell_type": "code",
   "execution_count": null,
   "metadata": {},
   "outputs": [],
   "source": []
  }
 ],
 "metadata": {
  "accelerator": "GPU",
  "colab": {
   "gpuType": "T4",
   "provenance": []
  },
  "kernelspec": {
   "display_name": "Python 3 (ipykernel)",
   "language": "python",
   "name": "python3"
  },
  "language_info": {
   "codemirror_mode": {
    "name": "ipython",
    "version": 3
   },
   "file_extension": ".py",
   "mimetype": "text/x-python",
   "name": "python",
   "nbconvert_exporter": "python",
   "pygments_lexer": "ipython3",
   "version": "3.11.2"
  }
 },
 "nbformat": 4,
 "nbformat_minor": 4
}
